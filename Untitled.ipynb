{
 "cells": [
  {
   "cell_type": "code",
   "execution_count": null,
   "metadata": {},
   "outputs": [
    {
     "name": "stderr",
     "output_type": "stream",
     "text": [
      "[nltk_data] Downloading package punkt to\n",
      "[nltk_data]     C:\\Users\\Asus\\AppData\\Roaming\\nltk_data...\n"
     ]
    }
   ],
   "source": [
    "import nltk\n",
    "nltk.download('punkt')\n",
    "import re\n",
    "import pprint\n",
    "from nltk import Tree\n",
    "\n",
    "grammar = \"\"\"\n",
    "    NP: {<JJ>*<NN*>+}\n",
    "    {<JJ>*<NN*><CC>*<NN*>+}\n",
    "    {<DT>*<JJ>*<NN>+}\n",
    "    {<DT>*<JJ>*<NNS>+}\n",
    "    {<JJ>*<NNS>+}\n",
    "    \"\"\"\n",
    "\n",
    "NPchunked = nltk.RegexpParser(grammar)\n",
    "\n",
    "def chunked_text(text):\n",
    "    sentences = nltk.sent_tokenize(text)\n",
    "    sentences = [nltk.word_tokenize(sent) for sent in sentences]\n",
    "    sentences = [nltk.pos_tag(sent) for sent in sentences]\n",
    "    sentences = [NPchunked.parse(sent) for sent in sentences]\n",
    "    return sentences\n",
    "\n",
    "def NP_chunked(sentences):\n",
    "    nps = []\n",
    "    NPchunked = nltk.RegexpParser(grammar)\n",
    "    for sent in sentences:\n",
    "        tree = NPchunked.parse(sent)\n",
    "        for subtree in tree.subtrees():\n",
    "            if subtree.label() == 'NP':\n",
    "                t = subtree\n",
    "                t = ' '.join(word for word, tag in t.leaves())\n",
    "                nps.append(t)\n",
    "    return nps\n",
    "\n",
    "para = \"Today is a very great day. Indian politicians are very corrupt.\"\n",
    "sentences = chunked_text(para)\n",
    "np =NP_chunked(sentences)\n",
    "print(np)"
   ]
  }
 ],
 "metadata": {
  "kernelspec": {
   "display_name": "Python 3",
   "language": "python",
   "name": "python3"
  },
  "language_info": {
   "codemirror_mode": {
    "name": "ipython",
    "version": 3
   },
   "file_extension": ".py",
   "mimetype": "text/x-python",
   "name": "python",
   "nbconvert_exporter": "python",
   "pygments_lexer": "ipython3",
   "version": "3.9.5"
  }
 },
 "nbformat": 4,
 "nbformat_minor": 4
}
