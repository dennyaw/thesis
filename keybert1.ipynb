{
 "cells": [
  {
   "cell_type": "code",
   "execution_count": 2,
   "metadata": {},
   "outputs": [
    {
     "name": "stdout",
     "output_type": "stream",
     "text": [
      "Requirement already satisfied: keybert in c:\\users\\asus\\appdata\\local\\programs\\python\\python39\\lib\\site-packages (0.5.1)\n",
      "Requirement already satisfied: sentence-transformers>=0.3.8 in c:\\users\\asus\\appdata\\local\\programs\\python\\python39\\lib\\site-packages (from keybert) (2.2.0)\n",
      "Requirement already satisfied: scikit-learn>=0.22.2 in c:\\users\\asus\\appdata\\local\\programs\\python\\python39\\lib\\site-packages (from keybert) (0.24.0)\n",
      "Requirement already satisfied: numpy>=1.18.5 in c:\\users\\asus\\appdata\\local\\programs\\python\\python39\\lib\\site-packages (from keybert) (1.19.5)\n",
      "Requirement already satisfied: rich>=10.4.0 in c:\\users\\asus\\appdata\\local\\programs\\python\\python39\\lib\\site-packages (from keybert) (12.4.2)\n",
      "Requirement already satisfied: pygments<3.0.0,>=2.6.0 in c:\\users\\asus\\appdata\\local\\programs\\python\\python39\\lib\\site-packages (from rich>=10.4.0->keybert) (2.7.3)\n",
      "Requirement already satisfied: commonmark<0.10.0,>=0.9.0 in c:\\users\\asus\\appdata\\local\\programs\\python\\python39\\lib\\site-packages (from rich>=10.4.0->keybert) (0.9.1)\n",
      "Requirement already satisfied: scipy>=0.19.1 in c:\\users\\asus\\appdata\\local\\programs\\python\\python39\\lib\\site-packages (from scikit-learn>=0.22.2->keybert) (1.6.0)\n",
      "Requirement already satisfied: joblib>=0.11 in c:\\users\\asus\\appdata\\local\\programs\\python\\python39\\lib\\site-packages (from scikit-learn>=0.22.2->keybert) (1.0.0)\n",
      "Requirement already satisfied: threadpoolctl>=2.0.0 in c:\\users\\asus\\appdata\\local\\programs\\python\\python39\\lib\\site-packages (from scikit-learn>=0.22.2->keybert) (2.1.0)\n",
      "Requirement already satisfied: torchvision in c:\\users\\asus\\appdata\\local\\programs\\python\\python39\\lib\\site-packages (from sentence-transformers>=0.3.8->keybert) (0.12.0)\n",
      "Requirement already satisfied: torch>=1.6.0 in c:\\users\\asus\\appdata\\local\\programs\\python\\python39\\lib\\site-packages (from sentence-transformers>=0.3.8->keybert) (1.11.0)\n",
      "Requirement already satisfied: sentencepiece in c:\\users\\asus\\appdata\\local\\programs\\python\\python39\\lib\\site-packages (from sentence-transformers>=0.3.8->keybert) (0.1.96)\n",
      "Requirement already satisfied: tqdm in c:\\users\\asus\\appdata\\local\\programs\\python\\python39\\lib\\site-packages (from sentence-transformers>=0.3.8->keybert) (4.62.3)\n",
      "Requirement already satisfied: transformers<5.0.0,>=4.6.0 in c:\\users\\asus\\appdata\\local\\programs\\python\\python39\\lib\\site-packages (from sentence-transformers>=0.3.8->keybert) (4.19.2)\n",
      "Requirement already satisfied: huggingface-hub in c:\\users\\asus\\appdata\\local\\programs\\python\\python39\\lib\\site-packages (from sentence-transformers>=0.3.8->keybert) (0.6.0)\n",
      "Requirement already satisfied: nltk in c:\\users\\asus\\appdata\\local\\programs\\python\\python39\\lib\\site-packages (from sentence-transformers>=0.3.8->keybert) (3.6.5)\n",
      "Requirement already satisfied: typing-extensions in c:\\users\\asus\\appdata\\local\\programs\\python\\python39\\lib\\site-packages (from torch>=1.6.0->sentence-transformers>=0.3.8->keybert) (3.7.4.3)\n",
      "Note: you may need to restart the kernel to use updated packages.Requirement already satisfied: packaging>=20.0 in c:\\users\\asus\\appdata\\local\\programs\\python\\python39\\lib\\site-packages (from transformers<5.0.0,>=4.6.0->sentence-transformers>=0.3.8->keybert) (21.3)\n",
      "Requirement already satisfied: requests in c:\\users\\asus\\appdata\\local\\programs\\python\\python39\\lib\\site-packages (from transformers<5.0.0,>=4.6.0->sentence-transformers>=0.3.8->keybert) (2.25.1)\n",
      "Requirement already satisfied: regex!=2019.12.17 in c:\\users\\asus\\appdata\\local\\programs\\python\\python39\\lib\\site-packages (from transformers<5.0.0,>=4.6.0->sentence-transformers>=0.3.8->keybert) (2021.11.10)\n",
      "Requirement already satisfied: tokenizers!=0.11.3,<0.13,>=0.11.1 in c:\\users\\asus\\appdata\\local\\programs\\python\\python39\\lib\\site-packages (from transformers<5.0.0,>=4.6.0->sentence-transformers>=0.3.8->keybert) (0.12.1)\n",
      "\n"
     ]
    },
    {
     "name": "stderr",
     "output_type": "stream",
     "text": [
      "WARNING: You are using pip version 21.1.2; however, version 22.2.2 is available.\n",
      "You should consider upgrading via the 'c:\\users\\asus\\appdata\\local\\programs\\python\\python39\\python.exe -m pip install --upgrade pip' command.\n"
     ]
    },
    {
     "name": "stdout",
     "output_type": "stream",
     "text": [
      "Requirement already satisfied: pyyaml>=5.1 in c:\\users\\asus\\appdata\\local\\programs\\python\\python39\\lib\\site-packages (from transformers<5.0.0,>=4.6.0->sentence-transformers>=0.3.8->keybert) (5.4.1)\n",
      "Requirement already satisfied: filelock in c:\\users\\asus\\appdata\\local\\programs\\python\\python39\\lib\\site-packages (from transformers<5.0.0,>=4.6.0->sentence-transformers>=0.3.8->keybert) (3.7.0)\n",
      "Requirement already satisfied: pyparsing!=3.0.5,>=2.0.2 in c:\\users\\asus\\appdata\\local\\programs\\python\\python39\\lib\\site-packages (from packaging>=20.0->transformers<5.0.0,>=4.6.0->sentence-transformers>=0.3.8->keybert) (2.4.7)\n",
      "Requirement already satisfied: colorama in c:\\users\\asus\\appdata\\local\\programs\\python\\python39\\lib\\site-packages (from tqdm->sentence-transformers>=0.3.8->keybert) (0.4.4)\n",
      "Requirement already satisfied: click in c:\\users\\asus\\appdata\\local\\programs\\python\\python39\\lib\\site-packages (from nltk->sentence-transformers>=0.3.8->keybert) (8.0.3)\n",
      "Requirement already satisfied: urllib3<1.27,>=1.21.1 in c:\\users\\asus\\appdata\\local\\programs\\python\\python39\\lib\\site-packages (from requests->transformers<5.0.0,>=4.6.0->sentence-transformers>=0.3.8->keybert) (1.26.5)\n",
      "Requirement already satisfied: certifi>=2017.4.17 in c:\\users\\asus\\appdata\\local\\programs\\python\\python39\\lib\\site-packages (from requests->transformers<5.0.0,>=4.6.0->sentence-transformers>=0.3.8->keybert) (2021.5.30)\n",
      "Requirement already satisfied: chardet<5,>=3.0.2 in c:\\users\\asus\\appdata\\local\\programs\\python\\python39\\lib\\site-packages (from requests->transformers<5.0.0,>=4.6.0->sentence-transformers>=0.3.8->keybert) (4.0.0)\n",
      "Requirement already satisfied: idna<3,>=2.5 in c:\\users\\asus\\appdata\\local\\programs\\python\\python39\\lib\\site-packages (from requests->transformers<5.0.0,>=4.6.0->sentence-transformers>=0.3.8->keybert) (2.10)\n",
      "Requirement already satisfied: pillow!=8.3.*,>=5.3.0 in c:\\users\\asus\\appdata\\local\\programs\\python\\python39\\lib\\site-packages (from torchvision->sentence-transformers>=0.3.8->keybert) (8.1.0)\n"
     ]
    }
   ],
   "source": [
    "pip install keybert"
   ]
  },
  {
   "cell_type": "code",
   "execution_count": 14,
   "metadata": {},
   "outputs": [],
   "source": [
    "from keybert import KeyBERT"
   ]
  },
  {
   "cell_type": "code",
   "execution_count": 15,
   "metadata": {},
   "outputs": [],
   "source": [
    "#kw_model = KeyBERT(model='paraphrase-multilingual-MiniLM-L12-v2')\n",
    "kw_model = KeyBERT(model='paraphrase-mpnet-base-v2')"
   ]
  },
  {
   "cell_type": "code",
   "execution_count": 16,
   "metadata": {},
   "outputs": [],
   "source": [
    "doc = \"\"\"\n",
    "        The apps feel lights and fluid however the extra convenience fee doesnt make sense at all Way too expensive the more seats you want to order Very few promotions and the loyalty feature that still WIP Hope there are no ads that cover the entire screen for the next update Couldnt recommend to everyone for now\n",
    "      \"\"\""
   ]
  },
  {
   "cell_type": "code",
   "execution_count": 26,
   "metadata": {},
   "outputs": [
    {
     "name": "stdout",
     "output_type": "stream",
     "text": [
      "Collecting keyphrase-vectorizersNote: you may need to restart the kernel to use updated packages.\n",
      "  Using cached keyphrase_vectorizers-0.0.10-py3-none-any.whl (28 kB)\n",
      "Requirement already satisfied: spacy-transformers>=1.1.6 in c:\\users\\asus\\appdata\\local\\programs\\python\\python39\\lib\\site-packages (from keyphrase-vectorizers) (1.1.8)\n",
      "Collecting psutil>=5.8.0\n",
      "  Using cached psutil-5.9.3-cp39-cp39-win_amd64.whl (247 kB)\n",
      "Requirement already satisfied: scipy>=1.7.3 in c:\\users\\asus\\appdata\\local\\programs\\python\\python39\\lib\\site-packages (from keyphrase-vectorizers) (1.9.3)\n",
      "Requirement already satisfied: scikit-learn>=1.0 in c:\\users\\asus\\appdata\\local\\programs\\python\\python39\\lib\\site-packages (from keyphrase-vectorizers) (1.1.3)\n",
      "Requirement already satisfied: spacy>=3.0.1 in c:\\users\\asus\\appdata\\local\\programs\\python\\python39\\lib\\site-packages (from keyphrase-vectorizers) (3.4.1)\n",
      "Requirement already satisfied: nltk>=3.6.1 in c:\\users\\asus\\appdata\\local\\programs\\python\\python39\\lib\\site-packages (from keyphrase-vectorizers) (3.6.5)\n",
      "Requirement already satisfied: numpy>=1.18.5 in c:\\users\\asus\\appdata\\local\\programs\\python\\python39\\lib\\site-packages (from keyphrase-vectorizers) (1.19.5)\n",
      "Requirement already satisfied: joblib in c:\\users\\asus\\appdata\\local\\programs\\python\\python39\\lib\\site-packages (from nltk>=3.6.1->keyphrase-vectorizers) (1.0.0)\n",
      "Requirement already satisfied: tqdm in c:\\users\\asus\\appdata\\local\\programs\\python\\python39\\lib\\site-packages (from nltk>=3.6.1->keyphrase-vectorizers) (4.62.3)\n",
      "Requirement already satisfied: click in c:\\users\\asus\\appdata\\local\\programs\\python\\python39\\lib\\site-packages (from nltk>=3.6.1->keyphrase-vectorizers) (8.0.3)\n",
      "Requirement already satisfied: regex>=2021.8.3 in c:\\users\\asus\\appdata\\local\\programs\\python\\python39\\lib\\site-packages (from nltk>=3.6.1->keyphrase-vectorizers) (2021.11.10)\n",
      "\n",
      "Requirement already satisfied: threadpoolctl>=2.0.0 in c:\\users\\asus\\appdata\\local\\programs\\python\\python39\\lib\\site-packages (from scikit-learn>=1.0->keyphrase-vectorizers) (2.1.0)\n",
      "Requirement already satisfied: pydantic!=1.8,!=1.8.1,<1.10.0,>=1.7.4 in c:\\users\\asus\\appdata\\local\\programs\\python\\python39\\lib\\site-packages (from spacy>=3.0.1->keyphrase-vectorizers) (1.9.2)\n",
      "Requirement already satisfied: pathy>=0.3.5 in c:\\users\\asus\\appdata\\local\\programs\\python\\python39\\lib\\site-packages (from spacy>=3.0.1->keyphrase-vectorizers) (0.6.2)\n",
      "Requirement already satisfied: murmurhash<1.1.0,>=0.28.0 in c:\\users\\asus\\appdata\\local\\programs\\python\\python39\\lib\\site-packages (from spacy>=3.0.1->keyphrase-vectorizers) (1.0.8)"
     ]
    },
    {
     "name": "stderr",
     "output_type": "stream",
     "text": [
      "WARNING: You are using pip version 21.1.2; however, version 22.3 is available.\n",
      "You should consider upgrading via the 'c:\\users\\asus\\appdata\\local\\programs\\python\\python39\\python.exe -m pip install --upgrade pip' command.\n"
     ]
    },
    {
     "name": "stdout",
     "output_type": "stream",
     "text": [
      "\n",
      "Requirement already satisfied: jinja2 in c:\\users\\asus\\appdata\\local\\programs\\python\\python39\\lib\\site-packages (from spacy>=3.0.1->keyphrase-vectorizers) (2.11.2)\n",
      "Requirement already satisfied: cymem<2.1.0,>=2.0.2 in c:\\users\\asus\\appdata\\local\\programs\\python\\python39\\lib\\site-packages (from spacy>=3.0.1->keyphrase-vectorizers) (2.0.6)\n",
      "Requirement already satisfied: wasabi<1.1.0,>=0.9.1 in c:\\users\\asus\\appdata\\local\\programs\\python\\python39\\lib\\site-packages (from spacy>=3.0.1->keyphrase-vectorizers) (0.10.1)\n",
      "Requirement already satisfied: requests<3.0.0,>=2.13.0 in c:\\users\\asus\\appdata\\local\\programs\\python\\python39\\lib\\site-packages (from spacy>=3.0.1->keyphrase-vectorizers) (2.25.1)\n",
      "Requirement already satisfied: packaging>=20.0 in c:\\users\\asus\\appdata\\local\\programs\\python\\python39\\lib\\site-packages (from spacy>=3.0.1->keyphrase-vectorizers) (21.3)\n",
      "Requirement already satisfied: preshed<3.1.0,>=3.0.2 in c:\\users\\asus\\appdata\\local\\programs\\python\\python39\\lib\\site-packages (from spacy>=3.0.1->keyphrase-vectorizers) (3.0.7)\n",
      "Requirement already satisfied: typer<0.5.0,>=0.3.0 in c:\\users\\asus\\appdata\\local\\programs\\python\\python39\\lib\\site-packages (from spacy>=3.0.1->keyphrase-vectorizers) (0.4.2)\n",
      "Requirement already satisfied: spacy-loggers<2.0.0,>=1.0.0 in c:\\users\\asus\\appdata\\local\\programs\\python\\python39\\lib\\site-packages (from spacy>=3.0.1->keyphrase-vectorizers) (1.0.3)\n",
      "Requirement already satisfied: catalogue<2.1.0,>=2.0.6 in c:\\users\\asus\\appdata\\local\\programs\\python\\python39\\lib\\site-packages (from spacy>=3.0.1->keyphrase-vectorizers) (2.0.8)\n",
      "Requirement already satisfied: langcodes<4.0.0,>=3.2.0 in c:\\users\\asus\\appdata\\local\\programs\\python\\python39\\lib\\site-packages (from spacy>=3.0.1->keyphrase-vectorizers) (3.3.0)\n",
      "Requirement already satisfied: setuptools in c:\\users\\asus\\appdata\\local\\programs\\python\\python39\\lib\\site-packages (from spacy>=3.0.1->keyphrase-vectorizers) (56.0.0)\n",
      "Requirement already satisfied: srsly<3.0.0,>=2.4.3 in c:\\users\\asus\\appdata\\local\\programs\\python\\python39\\lib\\site-packages (from spacy>=3.0.1->keyphrase-vectorizers) (2.4.4)\n",
      "Requirement already satisfied: thinc<8.2.0,>=8.1.0 in c:\\users\\asus\\appdata\\local\\programs\\python\\python39\\lib\\site-packages (from spacy>=3.0.1->keyphrase-vectorizers) (8.1.1)\n",
      "Requirement already satisfied: spacy-legacy<3.1.0,>=3.0.9 in c:\\users\\asus\\appdata\\local\\programs\\python\\python39\\lib\\site-packages (from spacy>=3.0.1->keyphrase-vectorizers) (3.0.10)\n",
      "Requirement already satisfied: pyparsing!=3.0.5,>=2.0.2 in c:\\users\\asus\\appdata\\local\\programs\\python\\python39\\lib\\site-packages (from packaging>=20.0->spacy>=3.0.1->keyphrase-vectorizers) (2.4.7)\n",
      "Requirement already satisfied: smart-open<6.0.0,>=5.2.1 in c:\\users\\asus\\appdata\\local\\programs\\python\\python39\\lib\\site-packages (from pathy>=0.3.5->spacy>=3.0.1->keyphrase-vectorizers) (5.2.1)\n",
      "Requirement already satisfied: typing-extensions>=3.7.4.3 in c:\\users\\asus\\appdata\\local\\programs\\python\\python39\\lib\\site-packages (from pydantic!=1.8,!=1.8.1,<1.10.0,>=1.7.4->spacy>=3.0.1->keyphrase-vectorizers) (3.7.4.3)\n",
      "Requirement already satisfied: certifi>=2017.4.17 in c:\\users\\asus\\appdata\\local\\programs\\python\\python39\\lib\\site-packages (from requests<3.0.0,>=2.13.0->spacy>=3.0.1->keyphrase-vectorizers) (2021.5.30)\n",
      "Requirement already satisfied: urllib3<1.27,>=1.21.1 in c:\\users\\asus\\appdata\\local\\programs\\python\\python39\\lib\\site-packages (from requests<3.0.0,>=2.13.0->spacy>=3.0.1->keyphrase-vectorizers) (1.26.5)\n",
      "Requirement already satisfied: chardet<5,>=3.0.2 in c:\\users\\asus\\appdata\\local\\programs\\python\\python39\\lib\\site-packages (from requests<3.0.0,>=2.13.0->spacy>=3.0.1->keyphrase-vectorizers) (3.0.4)\n",
      "Requirement already satisfied: idna<3,>=2.5 in c:\\users\\asus\\appdata\\local\\programs\\python\\python39\\lib\\site-packages (from requests<3.0.0,>=2.13.0->spacy>=3.0.1->keyphrase-vectorizers) (2.10)\n",
      "Requirement already satisfied: transformers<4.22.0,>=3.4.0 in c:\\users\\asus\\appdata\\local\\programs\\python\\python39\\lib\\site-packages (from spacy-transformers>=1.1.6->keyphrase-vectorizers) (4.19.2)\n",
      "Requirement already satisfied: spacy-alignments<1.0.0,>=0.7.2 in c:\\users\\asus\\appdata\\local\\programs\\python\\python39\\lib\\site-packages (from spacy-transformers>=1.1.6->keyphrase-vectorizers) (0.8.6)\n",
      "Requirement already satisfied: torch>=1.6.0 in c:\\users\\asus\\appdata\\local\\programs\\python\\python39\\lib\\site-packages (from spacy-transformers>=1.1.6->keyphrase-vectorizers) (1.11.0)\n",
      "Requirement already satisfied: confection<1.0.0,>=0.0.1 in c:\\users\\asus\\appdata\\local\\programs\\python\\python39\\lib\\site-packages (from thinc<8.2.0,>=8.1.0->spacy>=3.0.1->keyphrase-vectorizers) (0.0.1)\n",
      "Requirement already satisfied: blis<0.10.0,>=0.7.8 in c:\\users\\asus\\appdata\\local\\programs\\python\\python39\\lib\\site-packages (from thinc<8.2.0,>=8.1.0->spacy>=3.0.1->keyphrase-vectorizers) (0.9.1)\n",
      "Requirement already satisfied: colorama in c:\\users\\asus\\appdata\\local\\programs\\python\\python39\\lib\\site-packages (from tqdm->nltk>=3.6.1->keyphrase-vectorizers) (0.4.4)\n",
      "Requirement already satisfied: filelock in c:\\users\\asus\\appdata\\local\\programs\\python\\python39\\lib\\site-packages (from transformers<4.22.0,>=3.4.0->spacy-transformers>=1.1.6->keyphrase-vectorizers) (3.7.0)\n",
      "Requirement already satisfied: pyyaml>=5.1 in c:\\users\\asus\\appdata\\local\\programs\\python\\python39\\lib\\site-packages (from transformers<4.22.0,>=3.4.0->spacy-transformers>=1.1.6->keyphrase-vectorizers) (5.4.1)\n",
      "Requirement already satisfied: tokenizers!=0.11.3,<0.13,>=0.11.1 in c:\\users\\asus\\appdata\\local\\programs\\python\\python39\\lib\\site-packages (from transformers<4.22.0,>=3.4.0->spacy-transformers>=1.1.6->keyphrase-vectorizers) (0.12.1)\n",
      "Requirement already satisfied: huggingface-hub<1.0,>=0.1.0 in c:\\users\\asus\\appdata\\local\\programs\\python\\python39\\lib\\site-packages (from transformers<4.22.0,>=3.4.0->spacy-transformers>=1.1.6->keyphrase-vectorizers) (0.6.0)\n",
      "Requirement already satisfied: MarkupSafe>=0.23 in c:\\users\\asus\\appdata\\local\\programs\\python\\python39\\lib\\site-packages (from jinja2->spacy>=3.0.1->keyphrase-vectorizers) (1.1.1)\n",
      "Installing collected packages: psutil, keyphrase-vectorizers\n",
      "Successfully installed keyphrase-vectorizers-0.0.10 psutil-5.9.3\n"
     ]
    }
   ],
   "source": [
    "pip install keyphrase-vectorizers"
   ]
  },
  {
   "cell_type": "code",
   "execution_count": 22,
   "metadata": {},
   "outputs": [
    {
     "name": "stdout",
     "output_type": "stream",
     "text": [
      "Collecting keyphrase-vectorizersNote: you may need to restart the kernel to use updated packages.\n",
      "\n",
      "  Using cached keyphrase_vectorizers-0.0.10-py3-none-any.whl (28 kB)\n",
      "Requirement already satisfied: nltk>=3.6.1 in c:\\users\\asus\\appdata\\local\\programs\\python\\python39\\lib\\site-packages (from keyphrase-vectorizers) (3.6.5)\n",
      "Collecting scipy>=1.7.3\n",
      "  Downloading scipy-1.9.3-cp39-cp39-win_amd64.whl (40.2 MB)\n",
      "Collecting scikit-learn>=1.0\n",
      "  Downloading scikit_learn-1.1.3-cp39-cp39-win_amd64.whl (7.6 MB)\n",
      "Collecting spacy-transformers>=1.1.6\n",
      "  Downloading spacy_transformers-1.1.8-py2.py3-none-any.whl (53 kB)\n",
      "Requirement already satisfied: numpy>=1.18.5 in c:\\users\\asus\\appdata\\local\\programs\\python\\python39\\lib\\site-packages (from keyphrase-vectorizers) (1.19.5)\n",
      "Collecting psutil>=5.8.0\n",
      "  Downloading psutil-5.9.3-cp39-cp39-win_amd64.whl (247 kB)\n",
      "Requirement already satisfied: spacy>=3.0.1 in c:\\users\\asus\\appdata\\local\\programs\\python\\python39\\lib\\site-packages (from keyphrase-vectorizers) (3.4.1)\n",
      "Requirement already satisfied: tqdm in c:\\users\\asus\\appdata\\local\\programs\\python\\python39\\lib\\site-packages (from nltk>=3.6.1->keyphrase-vectorizers) (4.62.3)\n",
      "Requirement already satisfied: regex>=2021.8.3 in c:\\users\\asus\\appdata\\local\\programs\\python\\python39\\lib\\site-packages (from nltk>=3.6.1->keyphrase-vectorizers) (2021.11.10)\n",
      "Requirement already satisfied: click in c:\\users\\asus\\appdata\\local\\programs\\python\\python39\\lib\\site-packages (from nltk>=3.6.1->keyphrase-vectorizers) (8.0.3)\n",
      "Requirement already satisfied: joblib in c:\\users\\asus\\appdata\\local\\programs\\python\\python39\\lib\\site-packages (from nltk>=3.6.1->keyphrase-vectorizers) (1.0.0)"
     ]
    },
    {
     "name": "stderr",
     "output_type": "stream",
     "text": [
      "WARNING: Retrying (Retry(total=4, connect=None, read=None, redirect=None, status=None)) after connection broken by 'ReadTimeoutError(\"HTTPSConnectionPool(host='pypi.org', port=443): Read timed out. (read timeout=1000.0)\")': /simple/keyphrase-vectorizers/\n",
      "WARNING: Retrying (Retry(total=4, connect=None, read=None, redirect=None, status=None)) after connection broken by 'ProtocolError('Connection aborted.', ConnectionResetError(10054, 'An existing connection was forcibly closed by the remote host', None, 10054, None))': /simple/scikit-learn/\n",
      "WARNING: Retrying (Retry(total=4, connect=None, read=None, redirect=None, status=None)) after connection broken by 'ProtocolError('Connection aborted.', ConnectionResetError(10054, 'An existing connection was forcibly closed by the remote host', None, 10054, None))': /simple/spacy-transformers/\n",
      "ERROR: Could not install packages due to an OSError: [WinError 5] Access is denied: 'C:\\\\Users\\\\Asus\\\\AppData\\\\Local\\\\Programs\\\\Python\\\\Python39\\\\Lib\\\\site-packages\\\\~cipy\\\\.libs\\\\libansari.R6EA3HQP5KZ6TAXU4Y4ZVTRPT7UVA53Z.gfortran-win_amd64.dll'\n",
      "Consider using the `--user` option or check the permissions.\n",
      "\n",
      "WARNING: You are using pip version 21.1.2; however, version 22.3 is available.\n",
      "You should consider upgrading via the 'c:\\users\\asus\\appdata\\local\\programs\\python\\python39\\python.exe -m pip install --upgrade pip' command.\n"
     ]
    },
    {
     "name": "stdout",
     "output_type": "stream",
     "text": [
      "\n",
      "Requirement already satisfied: threadpoolctl>=2.0.0 in c:\\users\\asus\\appdata\\local\\programs\\python\\python39\\lib\\site-packages (from scikit-learn>=1.0->keyphrase-vectorizers) (2.1.0)\n",
      "Requirement already satisfied: setuptools in c:\\users\\asus\\appdata\\local\\programs\\python\\python39\\lib\\site-packages (from spacy>=3.0.1->keyphrase-vectorizers) (56.0.0)\n",
      "Requirement already satisfied: pydantic!=1.8,!=1.8.1,<1.10.0,>=1.7.4 in c:\\users\\asus\\appdata\\local\\programs\\python\\python39\\lib\\site-packages (from spacy>=3.0.1->keyphrase-vectorizers) (1.9.2)\n",
      "Requirement already satisfied: spacy-legacy<3.1.0,>=3.0.9 in c:\\users\\asus\\appdata\\local\\programs\\python\\python39\\lib\\site-packages (from spacy>=3.0.1->keyphrase-vectorizers) (3.0.10)\n",
      "Requirement already satisfied: requests<3.0.0,>=2.13.0 in c:\\users\\asus\\appdata\\local\\programs\\python\\python39\\lib\\site-packages (from spacy>=3.0.1->keyphrase-vectorizers) (2.25.1)\n",
      "Requirement already satisfied: typer<0.5.0,>=0.3.0 in c:\\users\\asus\\appdata\\local\\programs\\python\\python39\\lib\\site-packages (from spacy>=3.0.1->keyphrase-vectorizers) (0.4.2)\n",
      "Requirement already satisfied: wasabi<1.1.0,>=0.9.1 in c:\\users\\asus\\appdata\\local\\programs\\python\\python39\\lib\\site-packages (from spacy>=3.0.1->keyphrase-vectorizers) (0.10.1)\n",
      "Requirement already satisfied: murmurhash<1.1.0,>=0.28.0 in c:\\users\\asus\\appdata\\local\\programs\\python\\python39\\lib\\site-packages (from spacy>=3.0.1->keyphrase-vectorizers) (1.0.8)\n",
      "Requirement already satisfied: thinc<8.2.0,>=8.1.0 in c:\\users\\asus\\appdata\\local\\programs\\python\\python39\\lib\\site-packages (from spacy>=3.0.1->keyphrase-vectorizers) (8.1.1)\n",
      "Requirement already satisfied: jinja2 in c:\\users\\asus\\appdata\\local\\programs\\python\\python39\\lib\\site-packages (from spacy>=3.0.1->keyphrase-vectorizers) (2.11.2)\n",
      "Requirement already satisfied: packaging>=20.0 in c:\\users\\asus\\appdata\\local\\programs\\python\\python39\\lib\\site-packages (from spacy>=3.0.1->keyphrase-vectorizers) (21.3)\n",
      "Requirement already satisfied: srsly<3.0.0,>=2.4.3 in c:\\users\\asus\\appdata\\local\\programs\\python\\python39\\lib\\site-packages (from spacy>=3.0.1->keyphrase-vectorizers) (2.4.4)\n",
      "Requirement already satisfied: pathy>=0.3.5 in c:\\users\\asus\\appdata\\local\\programs\\python\\python39\\lib\\site-packages (from spacy>=3.0.1->keyphrase-vectorizers) (0.6.2)\n",
      "Requirement already satisfied: catalogue<2.1.0,>=2.0.6 in c:\\users\\asus\\appdata\\local\\programs\\python\\python39\\lib\\site-packages (from spacy>=3.0.1->keyphrase-vectorizers) (2.0.8)\n",
      "Requirement already satisfied: langcodes<4.0.0,>=3.2.0 in c:\\users\\asus\\appdata\\local\\programs\\python\\python39\\lib\\site-packages (from spacy>=3.0.1->keyphrase-vectorizers) (3.3.0)\n",
      "Requirement already satisfied: cymem<2.1.0,>=2.0.2 in c:\\users\\asus\\appdata\\local\\programs\\python\\python39\\lib\\site-packages (from spacy>=3.0.1->keyphrase-vectorizers) (2.0.6)\n",
      "Requirement already satisfied: spacy-loggers<2.0.0,>=1.0.0 in c:\\users\\asus\\appdata\\local\\programs\\python\\python39\\lib\\site-packages (from spacy>=3.0.1->keyphrase-vectorizers) (1.0.3)\n",
      "Requirement already satisfied: preshed<3.1.0,>=3.0.2 in c:\\users\\asus\\appdata\\local\\programs\\python\\python39\\lib\\site-packages (from spacy>=3.0.1->keyphrase-vectorizers) (3.0.7)\n",
      "Requirement already satisfied: pyparsing!=3.0.5,>=2.0.2 in c:\\users\\asus\\appdata\\local\\programs\\python\\python39\\lib\\site-packages (from packaging>=20.0->spacy>=3.0.1->keyphrase-vectorizers) (2.4.7)\n",
      "Requirement already satisfied: smart-open<6.0.0,>=5.2.1 in c:\\users\\asus\\appdata\\local\\programs\\python\\python39\\lib\\site-packages (from pathy>=0.3.5->spacy>=3.0.1->keyphrase-vectorizers) (5.2.1)\n",
      "Requirement already satisfied: typing-extensions>=3.7.4.3 in c:\\users\\asus\\appdata\\local\\programs\\python\\python39\\lib\\site-packages (from pydantic!=1.8,!=1.8.1,<1.10.0,>=1.7.4->spacy>=3.0.1->keyphrase-vectorizers) (3.7.4.3)\n",
      "Requirement already satisfied: idna<3,>=2.5 in c:\\users\\asus\\appdata\\local\\programs\\python\\python39\\lib\\site-packages (from requests<3.0.0,>=2.13.0->spacy>=3.0.1->keyphrase-vectorizers) (2.10)\n",
      "Requirement already satisfied: urllib3<1.27,>=1.21.1 in c:\\users\\asus\\appdata\\local\\programs\\python\\python39\\lib\\site-packages (from requests<3.0.0,>=2.13.0->spacy>=3.0.1->keyphrase-vectorizers) (1.26.5)\n",
      "Requirement already satisfied: certifi>=2017.4.17 in c:\\users\\asus\\appdata\\local\\programs\\python\\python39\\lib\\site-packages (from requests<3.0.0,>=2.13.0->spacy>=3.0.1->keyphrase-vectorizers) (2021.5.30)\n",
      "Requirement already satisfied: chardet<5,>=3.0.2 in c:\\users\\asus\\appdata\\local\\programs\\python\\python39\\lib\\site-packages (from requests<3.0.0,>=2.13.0->spacy>=3.0.1->keyphrase-vectorizers) (3.0.4)\n",
      "Requirement already satisfied: torch>=1.6.0 in c:\\users\\asus\\appdata\\local\\programs\\python\\python39\\lib\\site-packages (from spacy-transformers>=1.1.6->keyphrase-vectorizers) (1.11.0)\n",
      "Collecting spacy-alignments<1.0.0,>=0.7.2\n",
      "  Downloading spacy_alignments-0.8.6-cp39-cp39-win_amd64.whl (189 kB)\n",
      "Requirement already satisfied: transformers<4.22.0,>=3.4.0 in c:\\users\\asus\\appdata\\local\\programs\\python\\python39\\lib\\site-packages (from spacy-transformers>=1.1.6->keyphrase-vectorizers) (4.19.2)\n",
      "Requirement already satisfied: confection<1.0.0,>=0.0.1 in c:\\users\\asus\\appdata\\local\\programs\\python\\python39\\lib\\site-packages (from thinc<8.2.0,>=8.1.0->spacy>=3.0.1->keyphrase-vectorizers) (0.0.1)\n",
      "Requirement already satisfied: blis<0.10.0,>=0.7.8 in c:\\users\\asus\\appdata\\local\\programs\\python\\python39\\lib\\site-packages (from thinc<8.2.0,>=8.1.0->spacy>=3.0.1->keyphrase-vectorizers) (0.9.1)\n",
      "Requirement already satisfied: colorama in c:\\users\\asus\\appdata\\local\\programs\\python\\python39\\lib\\site-packages (from tqdm->nltk>=3.6.1->keyphrase-vectorizers) (0.4.4)\n",
      "Requirement already satisfied: huggingface-hub<1.0,>=0.1.0 in c:\\users\\asus\\appdata\\local\\programs\\python\\python39\\lib\\site-packages (from transformers<4.22.0,>=3.4.0->spacy-transformers>=1.1.6->keyphrase-vectorizers) (0.6.0)\n",
      "Requirement already satisfied: tokenizers!=0.11.3,<0.13,>=0.11.1 in c:\\users\\asus\\appdata\\local\\programs\\python\\python39\\lib\\site-packages (from transformers<4.22.0,>=3.4.0->spacy-transformers>=1.1.6->keyphrase-vectorizers) (0.12.1)\n",
      "Requirement already satisfied: pyyaml>=5.1 in c:\\users\\asus\\appdata\\local\\programs\\python\\python39\\lib\\site-packages (from transformers<4.22.0,>=3.4.0->spacy-transformers>=1.1.6->keyphrase-vectorizers) (5.4.1)\n",
      "Requirement already satisfied: filelock in c:\\users\\asus\\appdata\\local\\programs\\python\\python39\\lib\\site-packages (from transformers<4.22.0,>=3.4.0->spacy-transformers>=1.1.6->keyphrase-vectorizers) (3.7.0)\n",
      "Requirement already satisfied: MarkupSafe>=0.23 in c:\\users\\asus\\appdata\\local\\programs\\python\\python39\\lib\\site-packages (from jinja2->spacy>=3.0.1->keyphrase-vectorizers) (1.1.1)\n",
      "Installing collected packages: spacy-alignments, scipy, spacy-transformers, scikit-learn, psutil, keyphrase-vectorizers\n",
      "  Attempting uninstall: scipy\n",
      "    Found existing installation: scipy 1.6.0\n",
      "    Uninstalling scipy-1.6.0:\n",
      "      Successfully uninstalled scipy-1.6.0\n"
     ]
    }
   ],
   "source": [
    "pip --default-timeout=1000 install keyphrase-vectorizers"
   ]
  },
  {
   "cell_type": "code",
   "execution_count": 27,
   "metadata": {},
   "outputs": [
    {
     "name": "stderr",
     "output_type": "stream",
     "text": [
      "2022-11-03 00:42:42,649 - KeyphraseVectorizer - INFO - It looks like you do not have downloaded a list of stopwords yet. It is attempted to download the stopwords now.\n",
      "INFO:KeyphraseVectorizer:It looks like you do not have downloaded a list of stopwords yet. It is attempted to download the stopwords now.\n",
      "[nltk_data] Downloading package stopwords to\n",
      "[nltk_data]     C:\\Users\\Asus\\AppData\\Roaming\\nltk_data...\n",
      "[nltk_data]   Unzipping corpora\\stopwords.zip.\n",
      "2022-11-03 00:42:48,256 - KeyphraseVectorizer - INFO - It looks like the selected spaCy pipeline is not downloaded yet. It is attempted to download the spaCy pipeline now.\n",
      "2022-11-03 00:42:48,256 - KeyphraseVectorizer - INFO - It looks like the selected spaCy pipeline is not downloaded yet. It is attempted to download the spaCy pipeline now.\n",
      "INFO:KeyphraseVectorizer:It looks like the selected spaCy pipeline is not downloaded yet. It is attempted to download the spaCy pipeline now.\n"
     ]
    },
    {
     "name": "stdout",
     "output_type": "stream",
     "text": [
      "✔ Download and installation successful\n",
      "You can now load the package via spacy.load('en_core_web_sm')\n"
     ]
    },
    {
     "data": {
      "text/plain": [
       "[('convenience', 0.4001),\n",
       " ('apps', 0.3997),\n",
       " ('fee', 0.3137),\n",
       " ('seats', 0.3114),\n",
       " ('ads', 0.2862)]"
      ]
     },
     "execution_count": 27,
     "metadata": {},
     "output_type": "execute_result"
    }
   ],
   "source": [
    "from keyphrase_vectorizers import KeyphraseCountVectorizer\n",
    "vectorizer = KeyphraseCountVectorizer(pos_pattern='<N.*>')\n",
    "kw_model.extract_keywords(doc, vectorizer=vectorizer)"
   ]
  },
  {
   "cell_type": "code",
   "execution_count": 35,
   "metadata": {},
   "outputs": [
    {
     "name": "stdout",
     "output_type": "stream",
     "text": [
      "Requirement already satisfied: sentence-transformers in c:\\users\\asus\\appdata\\local\\programs\\python\\python39\\lib\\site-packages (2.2.0)\n",
      "Requirement already satisfied: huggingface-hub in c:\\users\\asus\\appdata\\local\\programs\\python\\python39\\lib\\site-packages (from sentence-transformers) (0.6.0)\n",
      "Requirement already satisfied: torch>=1.6.0 in c:\\users\\asus\\appdata\\local\\programs\\python\\python39\\lib\\site-packages (from sentence-transformers) (1.11.0)\n",
      "Requirement already satisfied: tqdm in c:\\users\\asus\\appdata\\local\\programs\\python\\python39\\lib\\site-packages (from sentence-transformers) (4.62.3)\n",
      "Requirement already satisfied: scikit-learn in c:\\users\\asus\\appdata\\local\\programs\\python\\python39\\lib\\site-packages (from sentence-transformers) (1.1.3)\n",
      "Requirement already satisfied: sentencepiece in c:\\users\\asus\\appdata\\local\\programs\\python\\python39\\lib\\site-packages (from sentence-transformers) (0.1.96)\n",
      "Requirement already satisfied: nltk in c:\\users\\asus\\appdata\\local\\programs\\python\\python39\\lib\\site-packages (from sentence-transformers) (3.6.5)\n",
      "Requirement already satisfied: scipy in c:\\users\\asus\\appdata\\local\\programs\\python\\python39\\lib\\site-packages (from sentence-transformers) (1.9.3)\n",
      "Requirement already satisfied: numpy in c:\\users\\asus\\appdata\\local\\programs\\python\\python39\\lib\\site-packages (from sentence-transformers) (1.19.5)\n",
      "Requirement already satisfied: transformers<5.0.0,>=4.6.0 in c:\\users\\asus\\appdata\\local\\programs\\python\\python39\\lib\\site-packages (from sentence-transformers) (4.19.2)\n",
      "Requirement already satisfied: torchvision in c:\\users\\asus\\appdata\\local\\programs\\python\\python39\\lib\\site-packages (from sentence-transformers) (0.12.0)\n",
      "Requirement already satisfied: typing-extensions in c:\\users\\asus\\appdata\\local\\programs\\python\\python39\\lib\\site-packages (from torch>=1.6.0->sentence-transformers) (3.7.4.3)\n",
      "Requirement already satisfied: filelock in c:\\users\\asus\\appdata\\local\\programs\\python\\python39\\lib\\site-packages (from transformers<5.0.0,>=4.6.0->sentence-transformers) (3.7.0)\n",
      "Requirement already satisfied: tokenizers!=0.11.3,<0.13,>=0.11.1 in c:\\users\\asus\\appdata\\local\\programs\\python\\python39\\lib\\site-packages (from transformers<5.0.0,>=4.6.0->sentence-transformers) (0.12.1)\n",
      "Requirement already satisfied: pyyaml>=5.1 in c:\\users\\asus\\appdata\\local\\programs\\python\\python39\\lib\\site-packages (from transformers<5.0.0,>=4.6.0->sentence-transformers) (5.4.1)\n",
      "Requirement already satisfied: packaging>=20.0 in c:\\users\\asus\\appdata\\local\\programs\\python\\python39\\lib\\site-packages (from transformers<5.0.0,>=4.6.0->sentence-transformers) (21.3)\n",
      "Requirement already satisfied: requests in c:\\users\\asus\\appdata\\local\\programs\\python\\python39\\lib\\site-packages (from transformers<5.0.0,>=4.6.0->sentence-transformers) (2.25.1)\n",
      "Requirement already satisfied: regex!=2019.12.17 in c:\\users\\asus\\appdata\\local\\programs\\python\\python39\\lib\\site-packages (from transformers<5.0.0,>=4.6.0->sentence-transformers) (2021.11.10)\n",
      "Requirement already satisfied: pyparsing!=3.0.5,>=2.0.2 in c:\\users\\asus\\appdata\\local\\programs\\python\\python39\\lib\\site-packages (from packaging>=20.0->transformers<5.0.0,>=4.6.0->sentence-transformers) (2.4.7)\n",
      "Requirement already satisfied: colorama in c:\\users\\asus\\appdata\\local\\programs\\python\\python39\\lib\\site-packages (from tqdm->sentence-transformers) (0.4.4)\n",
      "Requirement already satisfied: click in c:\\users\\asus\\appdata\\local\\programs\\python\\python39\\lib\\site-packages (from nltk->sentence-transformers) (8.0.3)\n",
      "Requirement already satisfied: joblib in c:\\users\\asus\\appdata\\local\\programs\\python\\python39\\lib\\site-packages (from nltk->sentence-transformers) (1.0.0)\n",
      "Requirement already satisfied: chardet<5,>=3.0.2 in c:\\users\\asus\\appdata\\local\\programs\\python\\python39\\lib\\site-packages (from requests->transformers<5.0.0,>=4.6.0->sentence-transformers) (3.0.4)\n",
      "Requirement already satisfied: urllib3<1.27,>=1.21.1 in c:\\users\\asus\\appdata\\local\\programs\\python\\python39\\lib\\site-packages (from requests->transformers<5.0.0,>=4.6.0->sentence-transformers) (1.26.5)\n",
      "Requirement already satisfied: idna<3,>=2.5 in c:\\users\\asus\\appdata\\local\\programs\\python\\python39\\lib\\site-packages (from requests->transformers<5.0.0,>=4.6.0->sentence-transformers) (2.10)\n",
      "Requirement already satisfied: certifi>=2017.4.17 in c:\\users\\asus\\appdata\\local\\programs\\python\\python39\\lib\\site-packages (from requests->transformers<5.0.0,>=4.6.0->sentence-transformers) (2021.5.30)\n",
      "Requirement already satisfied: threadpoolctl>=2.0.0 in c:\\users\\asus\\appdata\\local\\programs\\python\\python39\\lib\\site-packages (from scikit-learn->sentence-transformers) (2.1.0)\n",
      "Requirement already satisfied: pillow!=8.3.*,>=5.3.0 in c:\\users\\asus\\appdata\\local\\programs\\python\\python39\\lib\\site-packages (from torchvision->sentence-transformers) (8.1.0)\n"
     ]
    },
    {
     "name": "stderr",
     "output_type": "stream",
     "text": [
      "WARNING: You are using pip version 21.1.2; however, version 22.3 is available.\n",
      "You should consider upgrading via the 'c:\\users\\asus\\appdata\\local\\programs\\python\\python39\\python.exe -m pip install --upgrade pip' command.\n"
     ]
    }
   ],
   "source": [
    "#kw_model = KeyBERT(model='paraphrase-multilingual-MiniLM-L12-v2')\n",
    "!pip install sentence-transformers"
   ]
  },
  {
   "cell_type": "code",
   "execution_count": 36,
   "metadata": {},
   "outputs": [],
   "source": [
    "from sentence_transformers import SentenceTransformer"
   ]
  },
  {
   "cell_type": "code",
   "execution_count": 38,
   "metadata": {},
   "outputs": [],
   "source": [
    "from keybert import KeyBERT"
   ]
  },
  {
   "cell_type": "code",
   "execution_count": 42,
   "metadata": {},
   "outputs": [
    {
     "data": {
      "application/vnd.jupyter.widget-view+json": {
       "model_id": "37603543bda74a8e96176240848a56c3",
       "version_major": 2,
       "version_minor": 0
      },
      "text/plain": [
       "Downloading:   0%|          | 0.00/690 [00:00<?, ?B/s]"
      ]
     },
     "metadata": {},
     "output_type": "display_data"
    },
    {
     "data": {
      "application/vnd.jupyter.widget-view+json": {
       "model_id": "c0b3121e863e4c22b8ab32bad131b2ad",
       "version_major": 2,
       "version_minor": 0
      },
      "text/plain": [
       "Downloading:   0%|          | 0.00/190 [00:00<?, ?B/s]"
      ]
     },
     "metadata": {},
     "output_type": "display_data"
    },
    {
     "data": {
      "application/vnd.jupyter.widget-view+json": {
       "model_id": "c52293eac6ab4661a9f56198bbbf700e",
       "version_major": 2,
       "version_minor": 0
      },
      "text/plain": [
       "Downloading:   0%|          | 0.00/3.77k [00:00<?, ?B/s]"
      ]
     },
     "metadata": {},
     "output_type": "display_data"
    },
    {
     "data": {
      "application/vnd.jupyter.widget-view+json": {
       "model_id": "1555c7216a514d179cda6147d342bef7",
       "version_major": 2,
       "version_minor": 0
      },
      "text/plain": [
       "Downloading:   0%|          | 0.00/723 [00:00<?, ?B/s]"
      ]
     },
     "metadata": {},
     "output_type": "display_data"
    },
    {
     "data": {
      "application/vnd.jupyter.widget-view+json": {
       "model_id": "0f7c9adf80c04e8c816605669538ecbc",
       "version_major": 2,
       "version_minor": 0
      },
      "text/plain": [
       "Downloading:   0%|          | 0.00/122 [00:00<?, ?B/s]"
      ]
     },
     "metadata": {},
     "output_type": "display_data"
    },
    {
     "data": {
      "application/vnd.jupyter.widget-view+json": {
       "model_id": "76dd04d2ee3448a88760172b762da5fe",
       "version_major": 2,
       "version_minor": 0
      },
      "text/plain": [
       "Downloading:   0%|          | 0.00/229 [00:00<?, ?B/s]"
      ]
     },
     "metadata": {},
     "output_type": "display_data"
    },
    {
     "data": {
      "application/vnd.jupyter.widget-view+json": {
       "model_id": "5245bf3057864deaaec0cd5339c8005a",
       "version_major": 2,
       "version_minor": 0
      },
      "text/plain": [
       "Downloading:   0%|          | 0.00/1.11G [00:00<?, ?B/s]"
      ]
     },
     "metadata": {},
     "output_type": "display_data"
    },
    {
     "data": {
      "application/vnd.jupyter.widget-view+json": {
       "model_id": "43ebe609b0d7460c915f788f31c388b1",
       "version_major": 2,
       "version_minor": 0
      },
      "text/plain": [
       "Downloading:   0%|          | 0.00/53.0 [00:00<?, ?B/s]"
      ]
     },
     "metadata": {},
     "output_type": "display_data"
    },
    {
     "data": {
      "application/vnd.jupyter.widget-view+json": {
       "model_id": "f4815aacdc7a45e286ba7b5e88536b52",
       "version_major": 2,
       "version_minor": 0
      },
      "text/plain": [
       "Downloading:   0%|          | 0.00/5.07M [00:00<?, ?B/s]"
      ]
     },
     "metadata": {},
     "output_type": "display_data"
    },
    {
     "data": {
      "application/vnd.jupyter.widget-view+json": {
       "model_id": "9b1409fb6adc450f956bde87ad77d265",
       "version_major": 2,
       "version_minor": 0
      },
      "text/plain": [
       "Downloading:   0%|          | 0.00/239 [00:00<?, ?B/s]"
      ]
     },
     "metadata": {},
     "output_type": "display_data"
    },
    {
     "data": {
      "application/vnd.jupyter.widget-view+json": {
       "model_id": "ec432a8190944e2688ad435580d57be9",
       "version_major": 2,
       "version_minor": 0
      },
      "text/plain": [
       "Downloading:   0%|          | 0.00/9.08M [00:00<?, ?B/s]"
      ]
     },
     "metadata": {},
     "output_type": "display_data"
    },
    {
     "data": {
      "application/vnd.jupyter.widget-view+json": {
       "model_id": "6979acae71e045d2a63e394426de17e6",
       "version_major": 2,
       "version_minor": 0
      },
      "text/plain": [
       "Downloading:   0%|          | 0.00/402 [00:00<?, ?B/s]"
      ]
     },
     "metadata": {},
     "output_type": "display_data"
    }
   ],
   "source": [
    "#kw_model = KeyBERT(model='paraphrase-multilingual-MiniLM-L12-v2')\n",
    "#kw_model = KeyBERT(model='paraphrase-mpnet-base-v2')\n",
    "sentence_model=SentenceTransformer(\"paraphrase-multilingual-mpnet-base-v2\")\n",
    "kw_model=KeyBERT(model=sentence_model)"
   ]
  },
  {
   "cell_type": "code",
   "execution_count": 55,
   "metadata": {
    "scrolled": true
   },
   "outputs": [
    {
     "data": {
      "text/plain": [
       "[('aplicacion', 0.6371),\n",
       " ('dificil', 0.4401),\n",
       " ('funcion', 0.415),\n",
       " ('buena', 0.3022),\n",
       " ('pero', 0.2605)]"
      ]
     },
     "execution_count": 55,
     "metadata": {},
     "output_type": "execute_result"
    }
   ],
   "source": [
    "kw_model.extract_keywords(\"la aplicacion es buena pero la funcion es dificil de usar\", vectorizer=vectorizer)"
   ]
  },
  {
   "cell_type": "code",
   "execution_count": 53,
   "metadata": {},
   "outputs": [
    {
     "data": {
      "text/plain": [
       "[('thing', 0.5268)]"
      ]
     },
     "execution_count": 53,
     "metadata": {},
     "output_type": "execute_result"
    }
   ],
   "source": [
    "kw_model.extract_keywords(\"that thing is disgusting\", vectorizer=vectorizer)"
   ]
  },
  {
   "cell_type": "code",
   "execution_count": null,
   "metadata": {},
   "outputs": [],
   "source": []
  },
  {
   "cell_type": "code",
   "execution_count": 5,
   "metadata": {},
   "outputs": [],
   "source": [
    "kw_model = KeyBERT()\n",
    "keywords = kw_model.extract_keywords(doc)"
   ]
  },
  {
   "cell_type": "code",
   "execution_count": 6,
   "metadata": {},
   "outputs": [
    {
     "data": {
      "text/plain": [
       "[('apps', 0.4264),\n",
       " ('convenience', 0.3002),\n",
       " ('expensive', 0.2943),\n",
       " ('fee', 0.2821),\n",
       " ('promotions', 0.2791)]"
      ]
     },
     "execution_count": 6,
     "metadata": {},
     "output_type": "execute_result"
    }
   ],
   "source": [
    "keywords"
   ]
  },
  {
   "cell_type": "code",
   "execution_count": 7,
   "metadata": {},
   "outputs": [
    {
     "data": {
      "text/plain": [
       "[('apps feel', 0.4935),\n",
       " ('the apps', 0.4401),\n",
       " ('convenience fee', 0.3447),\n",
       " ('extra convenience', 0.3434),\n",
       " ('fee doesnt', 0.3357)]"
      ]
     },
     "execution_count": 7,
     "metadata": {},
     "output_type": "execute_result"
    }
   ],
   "source": [
    "kw_model.extract_keywords(doc, keyphrase_ngram_range=(2, 2), stop_words=None)"
   ]
  },
  {
   "cell_type": "code",
   "execution_count": 8,
   "metadata": {},
   "outputs": [
    {
     "data": {
      "text/plain": [
       "[('apps feel', 0.4935),\n",
       " ('the apps', 0.4401),\n",
       " ('convenience fee', 0.3447),\n",
       " ('extra convenience', 0.3434),\n",
       " ('fee doesnt', 0.3357)]"
      ]
     },
     "execution_count": 8,
     "metadata": {},
     "output_type": "execute_result"
    }
   ],
   "source": [
    "kw_model.extract_keywords(doc, keyphrase_ngram_range=(2, 2), stop_words=None)"
   ]
  },
  {
   "cell_type": "code",
   "execution_count": 9,
   "metadata": {},
   "outputs": [
    {
     "data": {
      "text/plain": [
       "[('apps feel', 0.4935),\n",
       " ('expensive seats', 0.3834),\n",
       " ('lights fluid', 0.2888),\n",
       " ('update recommend', 0.2653),\n",
       " ('order promotions', 0.2624)]"
      ]
     },
     "execution_count": 9,
     "metadata": {},
     "output_type": "execute_result"
    }
   ],
   "source": [
    " kw_model.extract_keywords(doc, keyphrase_ngram_range=(1, 2), stop_words='english',\n",
    "                              use_mmr=True, diversity=0.7)"
   ]
  },
  {
   "cell_type": "code",
   "execution_count": 10,
   "metadata": {},
   "outputs": [
    {
     "data": {
      "text/plain": [
       "[('apps feel lights', 0.5394),\n",
       " ('screen update recommend', 0.4681),\n",
       " ('way expensive seats', 0.3812),\n",
       " ('promotions loyalty feature', 0.3831),\n",
       " ('convenience fee doesnt', 0.3917)]"
      ]
     },
     "execution_count": 10,
     "metadata": {},
     "output_type": "execute_result"
    }
   ],
   "source": [
    "kw_model.extract_keywords(doc, keyphrase_ngram_range=(3, 3), stop_words='english',\n",
    "                              use_mmr=True, diversity=0.2)"
   ]
  },
  {
   "cell_type": "code",
   "execution_count": 11,
   "metadata": {},
   "outputs": [
    {
     "data": {
      "text/plain": [
       "[('apps feel lights', 0.5394),\n",
       " ('screen update recommend', 0.4681),\n",
       " ('expensive seats', 0.3834),\n",
       " ('promotions loyalty feature', 0.3831),\n",
       " ('apps feel', 0.4935)]"
      ]
     },
     "execution_count": 11,
     "metadata": {},
     "output_type": "execute_result"
    }
   ],
   "source": [
    "kw_model.extract_keywords(doc, keyphrase_ngram_range=(2,3), stop_words='english',\n",
    "                              use_mmr=True, diversity=0.2)"
   ]
  },
  {
   "cell_type": "code",
   "execution_count": 12,
   "metadata": {},
   "outputs": [
    {
     "data": {
      "text/plain": [
       "[('movie tickets app', 0.6661),\n",
       " ('tickets app bad', 0.628),\n",
       " ('schedule cinema payment', 0.5023),\n",
       " ('refunded payment ticket', 0.4751),\n",
       " ('booking code took', 0.4554)]"
      ]
     },
     "execution_count": 12,
     "metadata": {},
     "output_type": "execute_result"
    }
   ],
   "source": [
    "doc1 =\"Everytime I try to buy movie tickets through this app, it's always a bad experience, again and again. At first, there's a notif that we successfuly purchased the ticket. We just need to wait for the ticket's issued (or booking code). But it took soooooo loooong, took several hours actually. After so long, suddenly they refunded your payment. The ticket I wanted was already sold. Really DISSAPOINTING. Please work on your system, including the schedule, cinema, payment process, etc before you make any other promos. Oh, and it's customer service unreachable. Too bad\"\n",
    "kw_model.extract_keywords(doc1, keyphrase_ngram_range=(2,3), stop_words='english',\n",
    "                              use_mmr=True, diversity=0.2)"
   ]
  },
  {
   "cell_type": "code",
   "execution_count": 13,
   "metadata": {},
   "outputs": [
    {
     "data": {
      "text/plain": [
       "[('tickets app', 0.5575),\n",
       " ('cinema payment', 0.4841),\n",
       " ('movie tickets', 0.4997),\n",
       " ('purchased ticket', 0.475),\n",
       " ('booking code', 0.422)]"
      ]
     },
     "execution_count": 13,
     "metadata": {},
     "output_type": "execute_result"
    }
   ],
   "source": [
    "kw_model.extract_keywords(doc1, keyphrase_ngram_range=(1,2), stop_words='english',\n",
    "                              use_mmr=True, diversity=0.2)"
   ]
  },
  {
   "cell_type": "code",
   "execution_count": 14,
   "metadata": {},
   "outputs": [
    {
     "data": {
      "text/plain": [
       "[('tickets app', 0.5575),\n",
       " ('process make', -0.0645),\n",
       " ('refunded payment', 0.3718),\n",
       " ('actually long', -0.0233),\n",
       " ('schedule cinema', 0.3184)]"
      ]
     },
     "execution_count": 14,
     "metadata": {},
     "output_type": "execute_result"
    }
   ],
   "source": [
    "kw_model.extract_keywords(doc1, keyphrase_ngram_range=(1,2), stop_words='english',\n",
    "                              use_mmr=True, diversity=0.7)"
   ]
  },
  {
   "cell_type": "code",
   "execution_count": 15,
   "metadata": {},
   "outputs": [
    {
     "data": {
      "text/plain": [
       "[('notifications ticket', 0.487),\n",
       " ('canceled refunds', 0.4582),\n",
       " ('application', 0.3805),\n",
       " ('cinema disappointed', 0.4025),\n",
       " ('disappointed ticket', 0.4675)]"
      ]
     },
     "execution_count": 15,
     "metadata": {},
     "output_type": "execute_result"
    }
   ],
   "source": [
    "doc2=\"An application that will make you completely disappointed! How come. There are no notifications when your ticket fails to buy. So imagine, when you arrived at the cinema and were very disappointed to see that your ticket suddenly was canceled. Refunds alone are not enough to replace the costs of going to the movies, paying for parking, and even buying popcorn. So again, don't install this!\"\n",
    "kw_model.extract_keywords(doc2, keyphrase_ngram_range=(1,2), stop_words='english',\n",
    "                              use_mmr=True, diversity=0.2)"
   ]
  },
  {
   "cell_type": "code",
   "execution_count": 16,
   "metadata": {},
   "outputs": [
    {
     "data": {
      "text/plain": [
       "[('shows calendar', 0.6333),\n",
       " ('booked shows', 0.5579),\n",
       " ('calendar', 0.5727),\n",
       " ('calendar implement', 0.5443),\n",
       " ('feature automatically', 0.3002)]"
      ]
     },
     "execution_count": 16,
     "metadata": {},
     "output_type": "execute_result"
    }
   ],
   "source": [
    "doc3=\"Very easy to use and very helpful. However, I would like to suggest a feature : - Automatically add booked shows to calendar or implement some sort of notification to remind the user of their show time. If you guys implement this, it will be perfect for me.\"\n",
    "kw_model.extract_keywords(doc3, keyphrase_ngram_range=(1,2), stop_words='english',\n",
    "                              use_mmr=True, diversity=0.2)"
   ]
  },
  {
   "cell_type": "code",
   "execution_count": 17,
   "metadata": {},
   "outputs": [
    {
     "data": {
      "text/plain": [
       "[('tickets spiderman', 0.5331),\n",
       " ('refunded purchase', 0.4812),\n",
       " ('uninstall app', 0.444),\n",
       " ('purchased pre', 0.3696),\n",
       " ('app soon', 0.3415)]"
      ]
     },
     "execution_count": 17,
     "metadata": {},
     "output_type": "execute_result"
    }
   ],
   "source": [
    "doc4=\"i purchased 4 pre sale tickets of spiderman no way home for 15 december and succeded but earlier today you refunded my purchase by saying system error it is so dissapointing because my kids really looked forward to watch the movie if you dont fix this i am without a doubt will uninstall this app soon\"\n",
    "kw_model.extract_keywords(doc4, keyphrase_ngram_range=(1,2), stop_words='english',\n",
    "                              use_mmr=True, diversity=0.2)"
   ]
  },
  {
   "cell_type": "code",
   "execution_count": 18,
   "metadata": {},
   "outputs": [
    {
     "data": {
      "text/plain": [
       "[('presale refund', 0.5556),\n",
       " ('cinema ticket', 0.5091),\n",
       " ('disappointed refund', 0.5091),\n",
       " ('notification refund', 0.4784),\n",
       " ('refund ticket', 0.4537)]"
      ]
     },
     "execution_count": 18,
     "metadata": {},
     "output_type": "execute_result"
    }
   ],
   "source": [
    "doc5=\"Disappointed 1 They refund my ticket a day before the movie premiere They say that its due to tix system problem please if you dont have the technology to open pre sale then just dont open a presale Refund isnt enough to cover this you know The worst part is there is no notification at all when they refund my ticket Imagine if I and my 3 other friend go to cinema and then we found out our ticket isnt valid anymore Wth man I will be really embarrassed if that happened\"\n",
    "kw_model.extract_keywords(doc5, keyphrase_ngram_range=(1,2), stop_words='english',\n",
    "                              use_mmr=True, diversity=0.2)"
   ]
  },
  {
   "cell_type": "code",
   "execution_count": 19,
   "metadata": {},
   "outputs": [
    {
     "data": {
      "text/html": [
       "<pre style=\"white-space:pre;overflow-x:auto;line-height:normal;font-family:Menlo,'DejaVu Sans Mono',consolas,'Courier New',monospace\">Now, im just gonna give this <span style=\"color: #000000; text-decoration-color: #000000; background-color: #ffff00\">app</span> a 4 stars because, there is a problem in the transaction \n",
       "when i use Dana, sometimes there's an error, its not from internet factor or phone factor, \n",
       "but its in the apps gets some problem, thank you if you fix it\n",
       "</pre>\n"
      ],
      "text/plain": [
       "Now, im just gonna give this \u001b[30;48;2;255;255;0mapp\u001b[0m a 4 stars because, there is a problem in the transaction \n",
       "when i use Dana, sometimes there's an error, its not from internet factor or phone factor, \n",
       "but its in the apps gets some problem, thank you if you fix it\n"
      ]
     },
     "metadata": {},
     "output_type": "display_data"
    },
    {
     "data": {
      "text/plain": [
       "[('app', 0.488),\n",
       " ('dana error', 0.4531),\n",
       " ('factor phone', 0.4517),\n",
       " ('problem transaction', 0.4335),\n",
       " ('factor apps', 0.4663)]"
      ]
     },
     "execution_count": 19,
     "metadata": {},
     "output_type": "execute_result"
    }
   ],
   "source": [
    "doc6 =\"Now, im just gonna give this app a 4 stars because, there is a problem in the transaction when i use Dana, sometimes there's an error, its not from internet factor or phone factor, but its in the apps gets some problem, thank you if you fix it\"\n",
    "kw_model.extract_keywords(doc6, keyphrase_ngram_range=(1,2), stop_words='english',\n",
    "                              use_mmr=True, diversity=0.2, highlight=True)"
   ]
  },
  {
   "cell_type": "code",
   "execution_count": 20,
   "metadata": {},
   "outputs": [
    {
     "data": {
      "text/plain": [
       "[('app great', 0.4722),\n",
       " ('sale ticket', 0.4615),\n",
       " ('manage advance', 0.418),\n",
       " ('pre sale', 0.4698),\n",
       " ('announcement dissapointed', 0.3732)]"
      ]
     },
     "execution_count": 20,
     "metadata": {},
     "output_type": "execute_result"
    }
   ],
   "source": [
    "doc7=\"I know this app has great UI, but major thing is this app cannot manage advance pre-sale ticket smoothly, no feedback and no official announcement. I'm dissapointed.\"\n",
    "kw_model.extract_keywords(doc7, keyphrase_ngram_range=(1,2), stop_words='english',\n",
    "                              use_mmr=True, diversity=0.2)"
   ]
  },
  {
   "cell_type": "code",
   "execution_count": 21,
   "metadata": {},
   "outputs": [
    {
     "data": {
      "text/plain": [
       "[('promotion preview', 0.6054),\n",
       " ('trailer movies', 0.5381),\n",
       " ('preview trailer', 0.548),\n",
       " ('movies available', 0.4767),\n",
       " ('use promotion', 0.4762)]"
      ]
     },
     "execution_count": 21,
     "metadata": {},
     "output_type": "execute_result"
    }
   ],
   "source": [
    "doc8= \"Very easy to use and more promotion can be found Preview trailer of movies are available too.\"\n",
    "kw_model.extract_keywords(doc8, keyphrase_ngram_range=(1,2), stop_words='english',\n",
    "                              use_mmr=True, diversity=0.2)"
   ]
  },
  {
   "cell_type": "code",
   "execution_count": 22,
   "metadata": {},
   "outputs": [
    {
     "data": {
      "text/html": [
       "<pre style=\"white-space:pre;overflow-x:auto;line-height:normal;font-family:Menlo,'DejaVu Sans Mono',consolas,'Courier New',monospace\">Very <span style=\"color: #000000; text-decoration-color: #000000; background-color: #ffff00\">easy</span> to <span style=\"color: #000000; text-decoration-color: #000000; background-color: #ffff00\">use</span> and more <span style=\"color: #000000; text-decoration-color: #000000; background-color: #ffff00\">promotion</span> can be found <span style=\"color: #000000; text-decoration-color: #000000; background-color: #ffff00\">Preview</span> <span style=\"color: #000000; text-decoration-color: #000000; background-color: #ffff00\">trailer</span> of movies are available too.\n",
       "</pre>\n"
      ],
      "text/plain": [
       "Very \u001b[30;48;2;255;255;0measy\u001b[0m to \u001b[30;48;2;255;255;0muse\u001b[0m and more \u001b[30;48;2;255;255;0mpromotion\u001b[0m can be found \u001b[30;48;2;255;255;0mPreview\u001b[0m \u001b[30;48;2;255;255;0mtrailer\u001b[0m of movies are available too.\n"
      ]
     },
     "metadata": {},
     "output_type": "display_data"
    },
    {
     "data": {
      "text/plain": [
       "[('trailer', 0.437),\n",
       " ('promotion', 0.3952),\n",
       " ('use', 0.238),\n",
       " ('preview', 0.3369),\n",
       " ('easy', 0.1819)]"
      ]
     },
     "execution_count": 22,
     "metadata": {},
     "output_type": "execute_result"
    }
   ],
   "source": [
    "kw_model.extract_keywords(doc8, keyphrase_ngram_range=(1,1), stop_words='english',\n",
    "                              use_mmr=True, diversity=0.7,highlight=True)"
   ]
  },
  {
   "cell_type": "code",
   "execution_count": 23,
   "metadata": {},
   "outputs": [
    {
     "data": {
      "text/plain": [
       "[('got refund', 0.5722),\n",
       " ('tix id', 0.5489),\n",
       " ('paid ticket', 0.5407),\n",
       " ('funny tix', 0.4885),\n",
       " ('refund said', 0.5001)]"
      ]
     },
     "execution_count": 23,
     "metadata": {},
     "output_type": "execute_result"
    }
   ],
   "source": [
    "doc9 = \"Already paid for the ticket 3 days later got refund said it was system error so funny Tix Id\"\n",
    "kw_model.extract_keywords(doc9, keyphrase_ngram_range=(1,2), stop_words='english',\n",
    "                              use_mmr=True, diversity=0.2)"
   ]
  },
  {
   "cell_type": "code",
   "execution_count": 24,
   "metadata": {},
   "outputs": [
    {
     "data": {
      "text/plain": [
       "[('looking app', 0.6771),\n",
       " ('app nice', 0.6742),\n",
       " ('good looking', 0.4575),\n",
       " ('user experience', 0.4405),\n",
       " ('app', 0.5491)]"
      ]
     },
     "execution_count": 24,
     "metadata": {},
     "output_type": "execute_result"
    }
   ],
   "source": [
    "doc10= \"good looking app with nice user experience keep up the good work\"\n",
    "kw_model.extract_keywords(doc10, keyphrase_ngram_range=(1,2), stop_words='english',\n",
    "                              use_mmr=True, diversity=0.2)"
   ]
  },
  {
   "cell_type": "code",
   "execution_count": 25,
   "metadata": {},
   "outputs": [
    {
     "data": {
      "text/plain": [
       "[('easy use', 0.5823),\n",
       " ('clean look', 0.5583),\n",
       " ('sufficient feature', 0.421),\n",
       " ('look sufficient', 0.4012),\n",
       " ('feature', 0.4153)]"
      ]
     },
     "execution_count": 25,
     "metadata": {},
     "output_type": "execute_result"
    }
   ],
   "source": [
    "doc11 = \"Easy to use, clean look, sufficient feature.\"\n",
    "kw_model.extract_keywords(doc11, keyphrase_ngram_range=(1,2), stop_words='english',\n",
    "                              use_mmr=True, diversity=0.2)"
   ]
  },
  {
   "cell_type": "code",
   "execution_count": 26,
   "metadata": {},
   "outputs": [
    {
     "data": {
      "text/plain": [
       "[('easy use', 0.5823),\n",
       " ('clean look', 0.5583),\n",
       " ('sufficient feature', 0.421),\n",
       " ('feature', 0.4153),\n",
       " ('look sufficient', 0.4012)]"
      ]
     },
     "execution_count": 26,
     "metadata": {},
     "output_type": "execute_result"
    }
   ],
   "source": [
    "kw_model.extract_keywords(doc11, keyphrase_ngram_range=(1,2))"
   ]
  },
  {
   "cell_type": "code",
   "execution_count": 27,
   "metadata": {},
   "outputs": [
    {
     "data": {
      "text/plain": [
       "[('feature', 0.4153),\n",
       " ('use', 0.2979),\n",
       " ('look', 0.2967),\n",
       " ('easy', 0.2963),\n",
       " ('clean', 0.2946)]"
      ]
     },
     "execution_count": 27,
     "metadata": {},
     "output_type": "execute_result"
    }
   ],
   "source": [
    "kw_model.extract_keywords(doc11)"
   ]
  },
  {
   "cell_type": "code",
   "execution_count": 28,
   "metadata": {},
   "outputs": [
    {
     "data": {
      "text/plain": [
       "[('feature', 0.4153),\n",
       " ('use', 0.2979),\n",
       " ('look', 0.2967),\n",
       " ('easy', 0.2963),\n",
       " ('clean', 0.2946)]"
      ]
     },
     "execution_count": 28,
     "metadata": {},
     "output_type": "execute_result"
    }
   ],
   "source": [
    "kw_model.extract_keywords(doc11, stop_words='english')"
   ]
  },
  {
   "cell_type": "code",
   "execution_count": 29,
   "metadata": {},
   "outputs": [
    {
     "data": {
      "text/plain": [
       "[('apps feel lights', 0.5418),\n",
       " ('screen update recommend', 0.4758),\n",
       " ('extra convenience fee', 0.3998),\n",
       " ('way expensive seats', 0.3651),\n",
       " ('promotions loyalty feature', 0.3598)]"
      ]
     },
     "execution_count": 29,
     "metadata": {},
     "output_type": "execute_result"
    }
   ],
   "source": [
    "doc= \"The apps feel lights and fluid however the extra convenience fee does not make sense at all. Way too expensive the more seats you want to order. Very few promotions and the loyalty feature that still work in progress. Hope there are no ads that cover the entire screen for the next update. Could not recommend to everyone for now.\"\n",
    "kw_model.extract_keywords(doc, keyphrase_ngram_range=(3, 3), stop_words='english',\n",
    "                              use_mmr=True, diversity=0.2)"
   ]
  },
  {
   "cell_type": "code",
   "execution_count": 30,
   "metadata": {},
   "outputs": [],
   "source": [
    "res=kw_model.extract_keywords(doc, keyphrase_ngram_range=(3, 3), stop_words='english',\n",
    "                              use_mmr=True, diversity=0.2)"
   ]
  },
  {
   "cell_type": "code",
   "execution_count": 31,
   "metadata": {},
   "outputs": [
    {
     "ename": "AttributeError",
     "evalue": "'list' object has no attribute 'type'",
     "output_type": "error",
     "traceback": [
      "\u001b[1;31m---------------------------------------------------------------------------\u001b[0m",
      "\u001b[1;31mAttributeError\u001b[0m                            Traceback (most recent call last)",
      "\u001b[1;32m<ipython-input-31-4984758dbedd>\u001b[0m in \u001b[0;36m<module>\u001b[1;34m\u001b[0m\n\u001b[1;32m----> 1\u001b[1;33m \u001b[0mres\u001b[0m\u001b[1;33m.\u001b[0m\u001b[0mtype\u001b[0m\u001b[1;33m(\u001b[0m\u001b[1;33m)\u001b[0m\u001b[1;33m\u001b[0m\u001b[1;33m\u001b[0m\u001b[0m\n\u001b[0m",
      "\u001b[1;31mAttributeError\u001b[0m: 'list' object has no attribute 'type'"
     ]
    }
   ],
   "source": [
    "res.type()"
   ]
  },
  {
   "cell_type": "code",
   "execution_count": null,
   "metadata": {},
   "outputs": [],
   "source": []
  }
 ],
 "metadata": {
  "kernelspec": {
   "display_name": "Python 3",
   "language": "python",
   "name": "python3"
  },
  "language_info": {
   "codemirror_mode": {
    "name": "ipython",
    "version": 3
   },
   "file_extension": ".py",
   "mimetype": "text/x-python",
   "name": "python",
   "nbconvert_exporter": "python",
   "pygments_lexer": "ipython3",
   "version": "3.9.5"
  }
 },
 "nbformat": 4,
 "nbformat_minor": 4
}
